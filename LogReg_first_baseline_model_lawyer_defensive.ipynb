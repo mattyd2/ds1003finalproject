{
 "cells": [
  {
   "cell_type": "markdown",
   "metadata": {},
   "source": [
    "Building a Logistic Regression Classifier"
   ]
  },
  {
   "cell_type": "code",
   "execution_count": 87,
   "metadata": {
    "collapsed": false,
    "scrolled": true
   },
   "outputs": [],
   "source": [
    "#Read the train data\n",
    "import pandas as pd\n",
    "from numba import jit\n",
    "\n",
    "data = pd.read_csv('asylum_clean.csv')\n",
    "#data has# 501053 rows\n"
   ]
  },
  {
   "cell_type": "code",
   "execution_count": 88,
   "metadata": {
    "collapsed": false,
    "scrolled": true
   },
   "outputs": [],
   "source": [
    "# Check if there is duplicated 'idncase' \n",
    "data_duplicated = data.duplicated('idncase', keep =False)\n",
    "data_duplicated[data_duplicated==True]\n",
    "\n",
    "# Visualize data sorted by 'idncase' and 'idnproceeding'\n",
    "data_duplicated_sorted = data[data_duplicated].sort_values(by=['idncase', 'idnproceeding'])"
   ]
  },
  {
   "cell_type": "code",
   "execution_count": 89,
   "metadata": {
    "collapsed": false
   },
   "outputs": [],
   "source": [
    "# Check for missing values by column 'grant'\n",
    "data['grant'].isnull().values.any() # there are missing values!\n",
    "\n",
    "# Check for missing values by column 'grantraw'\n",
    "data['grantraw'].isnull().values.any() # no NaN value\n",
    "data[data['grantraw']==1] # 167912 rows with 'grantraw'==1\n",
    "data[data['grantraw']==0] # 311681 rows with 'grantraw'==0 No missing values!\n",
    "\n",
    "# Check for missing values by column 'lawyer'\n",
    "data['lawyer'].isnull().values.any() # no NaN value\n",
    "data[data['lawyer']==1] # 423609 rows with 'lawyer'==1\n",
    "data[data['lawyer']==0] # 55984 rows with 'lawyer'==0 No missing values!\n",
    "\n",
    "# Check for missing values by column 'defensive'\n",
    "data['defensive'].isnull().values.any() # there are missing values!\n",
    "data['defensive'].isnull().sum() # 12304 rows with missing values on column 'defensive'\n",
    "\n",
    "# Prepare data for basic Log Reg using features 'lawyer', 'defensive', and 'grantraw' as X\n",
    "data_X = data[['lawyer', 'defensive', 'grantraw']]\n",
    "\n",
    "# Remove 12304 rows where 'defensive' has missing values\n",
    "data_X = data_X.dropna(axis=0, how='any', thresh=None, subset=None, inplace=False)"
   ]
  },
  {
   "cell_type": "code",
   "execution_count": 124,
   "metadata": {
    "collapsed": false
   },
   "outputs": [],
   "source": [
    "# Random split into train and test\n",
    "import numpy as np\n",
    "import random\n",
    "\n",
    "np.random.seed(seed=0)\n",
    "new_index = range(data_X.shape[0])\n",
    "np.random.shuffle(new_index)\n",
    "\n",
    "train = data_X.iloc[new_index[0:int(data_X.shape[0]*.8)]]\n",
    "test = data_X.iloc[new_index[int(data_X.shape[0]*.8)]:]"
   ]
  },
  {
   "cell_type": "code",
   "execution_count": 125,
   "metadata": {
    "collapsed": false
   },
   "outputs": [
    {
     "data": {
      "text/plain": [
       "(390802, 3)"
      ]
     },
     "execution_count": 125,
     "metadata": {},
     "output_type": "execute_result"
    }
   ],
   "source": [
    "train.shape"
   ]
  },
  {
   "cell_type": "code",
   "execution_count": 126,
   "metadata": {
    "collapsed": false
   },
   "outputs": [
    {
     "data": {
      "text/plain": [
       "LogisticRegression(C=1e+30, class_weight=None, dual=False, fit_intercept=True,\n",
       "          intercept_scaling=1, max_iter=100, multi_class='ovr', n_jobs=1,\n",
       "          penalty='l2', random_state=None, solver='liblinear', tol=0.0001,\n",
       "          verbose=0, warm_start=False)"
      ]
     },
     "execution_count": 126,
     "metadata": {},
     "output_type": "execute_result"
    }
   ],
   "source": [
    "# Implement Log Reg\n",
    "from sklearn import linear_model\n",
    "\n",
    "logreg = linear_model.LogisticRegression(C = 1e30)\n",
    "logreg.fit(train.drop('grantraw', 1), train['grantraw'])"
   ]
  },
  {
   "cell_type": "code",
   "execution_count": 127,
   "metadata": {
    "collapsed": false,
    "scrolled": true
   },
   "outputs": [
    {
     "data": {
      "image/png": "[encoded data removed]",
      "text/plain": [
       "<matplotlib.figure.Figure at 0x1294d7f50>"
      ]
     },
     "metadata": {},
     "output_type": "display_data"
    }
   ],
   "source": [
    "import matplotlib\n",
    "import matplotlib.pyplot as plt\n",
    "from sklearn.metrics import roc_curve, auc\n",
    "%matplotlib inline\n",
    "\n",
    "@jit\n",
    "def plotAUC(truth, pred, lab):\n",
    "    fpr, tpr, thresholds = roc_curve(truth, pred)\n",
    "    roc_auc = auc(fpr, tpr)\n",
    "    c = (np.random.rand(), np.random.rand(), np.random.rand())\n",
    "    plt.plot(fpr, tpr, color=c, label= lab+' (AUC = %0.2f)' % roc_auc)\n",
    "    plt.plot([0, 1], [0, 1], 'k--')\n",
    "    plt.xlim([0.0, 1.0])\n",
    "    plt.ylim([0.0, 1.0])\n",
    "    plt.xlabel('FPR')\n",
    "    plt.ylabel('TPR')\n",
    "    plt.title('ROC')\n",
    "    plt.legend(loc=\"lower right\")\n",
    "    \n",
    "plotAUC(test['grantraw'], logreg.predict_proba(test.drop('grantraw', 1))[:,1], 'LR')  \n",
    "\n",
    "plt.show()"
   ]
  },
  {
   "cell_type": "code",
   "execution_count": null,
   "metadata": {
    "collapsed": true
   },
   "outputs": [],
   "source": []
  }
 ],
 "metadata": {
  "kernelspec": {
   "display_name": "Python 2",
   "language": "python",
   "name": "python2"
  },
  "language_info": {
   "codemirror_mode": {
    "name": "ipython",
    "version": 2
   },
   "file_extension": ".py",
   "mimetype": "text/x-python",
   "name": "python",
   "nbconvert_exporter": "python",
   "pygments_lexer": "ipython2",
   "version": "2.7.11"
  }
 },
 "nbformat": 4,
 "nbformat_minor": 0
}
